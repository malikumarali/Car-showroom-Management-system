{
  "nbformat": 4,
  "nbformat_minor": 0,
  "metadata": {
    "colab": {
      "provenance": [],
      "authorship_tag": "ABX9TyM1Y4ep8NkYTP53gaL2snuh",
      "include_colab_link": true
    },
    "kernelspec": {
      "name": "python3",
      "display_name": "Python 3"
    },
    "language_info": {
      "name": "python"
    }
  },
  "cells": [
    {
      "cell_type": "markdown",
      "metadata": {
        "id": "view-in-github",
        "colab_type": "text"
      },
      "source": [
        "<a href=\"https://colab.research.google.com/github/malikumarali/Car-showroom-Management-system/blob/main/Task2Text_sentimental_analysis.ipynb\" target=\"_parent\"><img src=\"https://colab.research.google.com/assets/colab-badge.svg\" alt=\"Open In Colab\"/></a>"
      ]
    },
    {
      "cell_type": "code",
      "source": [
        "import nltk\n",
        "import os\n",
        "import re\n",
        "from nltk.corpus import stopwords\n",
        "from nltk.stem import WordNetLemmatizer\n",
        "from sklearn.model_selection import train_test_split\n",
        "from sklearn.feature_extraction.text import TfidfVectorizer\n",
        "from sklearn.linear_model import LogisticRegression\n",
        "from sklearn.metrics import classification_report\n",
        "import pandas as pd\n",
        "import nltk\n",
        "nltk.download('punkt')\n",
        "# Download necessary NLTK resources (run this once)\n",
        "nltk.download('punkt')\n",
        "nltk.download('stopwords')\n",
        "nltk.download('wordnet')\n",
        "import nltk\n",
        "nltk.download('punkt_tab')"
      ],
      "metadata": {
        "colab": {
          "base_uri": "https://localhost:8080/"
        },
        "id": "xQ1SXD2t0Ahh",
        "outputId": "233d491b-5ae6-40c9-e64e-973b260142c0"
      },
      "execution_count": null,
      "outputs": [
        {
          "output_type": "stream",
          "name": "stderr",
          "text": [
            "[nltk_data] Downloading package punkt to /root/nltk_data...\n",
            "[nltk_data]   Package punkt is already up-to-date!\n",
            "[nltk_data] Downloading package punkt to /root/nltk_data...\n",
            "[nltk_data]   Package punkt is already up-to-date!\n",
            "[nltk_data] Downloading package stopwords to /root/nltk_data...\n",
            "[nltk_data]   Package stopwords is already up-to-date!\n",
            "[nltk_data] Downloading package wordnet to /root/nltk_data...\n",
            "[nltk_data]   Package wordnet is already up-to-date!\n",
            "[nltk_data] Downloading package punkt_tab to /root/nltk_data...\n",
            "[nltk_data]   Unzipping tokenizers/punkt_tab.zip.\n"
          ]
        },
        {
          "output_type": "execute_result",
          "data": {
            "text/plain": [
              "True"
            ]
          },
          "metadata": {},
          "execution_count": 27
        }
      ]
    },
    {
      "cell_type": "code",
      "source": [
        "!pip install -q kaggle"
      ],
      "metadata": {
        "id": "uSzKQzrIdTKY"
      },
      "execution_count": null,
      "outputs": []
    },
    {
      "cell_type": "code",
      "source": [
        "from google.colab import files\n",
        "files.upload()"
      ],
      "metadata": {
        "colab": {
          "base_uri": "https://localhost:8080/",
          "height": 1000
        },
        "id": "AWJJYt9WdZgN",
        "outputId": "47d7025d-75bf-4a91-e227-bc6ce57bd948"
      },
      "execution_count": null,
      "outputs": []
    },
    {
      "cell_type": "code",
      "source": [
        "# --- Chunk 1: Data Loading and Preprocessing ---\n",
        "def load_data_from_colab(filename=\"IMDB Dataset.csv\"):\n",
        "    \"\"\"Loads data from a CSV file uploaded to Google Colab.\"\"\"\n",
        "    try:\n",
        "        df = pd.read_csv(filename)\n",
        "        print(f\"Data loaded successfully from '{filename}' with {len(df)} rows.\")\n",
        "        # Assuming the CSV has columns 'review' and 'sentiment'\n",
        "        texts = df['review'].tolist()\n",
        "        labels = df['sentiment'].apply(lambda x: 1 if x == 'positive' else 0).tolist()\n",
        "        return texts, labels\n",
        "    except FileNotFoundError:\n",
        "        print(f\"Error: CSV file not found. Make sure '{filename}' is uploaded to Colab.\")\n",
        "        return [], []\n",
        "    except Exception as e:\n",
        "        print(f\"An error occurred while loading the CSV file: {e}\")\n",
        "        return [], []\n",
        "import nltk\n",
        "from nltk.corpus import stopwords\n",
        "from nltk.stem import WordNetLemmatizer\n",
        "nltk.download('punkt')\n",
        "nltk.download('stopwords')\n",
        "nltk.download('wordnet') # Download wordnet for lemmatization\n",
        "\n",
        "\n",
        "\n",
        "def preprocess_text(text):\n",
        "    # Tokenization\n",
        "    tokens = nltk.word_tokenize(text.lower())\n",
        "\n",
        "    # Remove stopwords\n",
        "    stop_words = set(stopwords.words('english'))\n",
        "    tokens = [token for token in tokens if token not in stop_words and token.isalnum()]\n",
        "\n",
        "    # Lemmatization\n",
        "    lemmatizer = WordNetLemmatizer()\n",
        "    tokens = [lemmatizer.lemmatize(token) for token in tokens]\n",
        "\n",
        "    return \" \".join(tokens)\n",
        "\n",
        "# Load data from Colab\n",
        "texts, labels = load_data_from_colab()\n",
        "\n",
        "if not texts:\n",
        "    print(\"No data loaded. Please check if the CSV file is uploaded and named correctly.\")\n",
        "else:\n",
        "    # Preprocess all texts\n",
        "    preprocessed_texts = [preprocess_text(text) for text in texts]"
      ],
      "metadata": {
        "colab": {
          "base_uri": "https://localhost:8080/"
        },
        "id": "O4hCQ_5Ud5nX",
        "outputId": "50d858bb-21b0-43d9-e343-ba94dcd4ee3c"
      },
      "execution_count": null,
      "outputs": [
        {
          "output_type": "stream",
          "name": "stderr",
          "text": [
            "[nltk_data] Downloading package punkt to /root/nltk_data...\n",
            "[nltk_data]   Package punkt is already up-to-date!\n",
            "[nltk_data] Downloading package stopwords to /root/nltk_data...\n",
            "[nltk_data]   Package stopwords is already up-to-date!\n",
            "[nltk_data] Downloading package wordnet to /root/nltk_data...\n",
            "[nltk_data]   Package wordnet is already up-to-date!\n"
          ]
        },
        {
          "output_type": "stream",
          "name": "stdout",
          "text": [
            "Data loaded successfully from 'IMDB Dataset.csv' with 50000 rows.\n"
          ]
        }
      ]
    },
    {
      "cell_type": "code",
      "source": [
        "# --- Chunk 2: Feature Engineering ---\n",
        "# Split data into training and testing sets\n",
        "X_train, X_test, y_train, y_test = train_test_split(preprocessed_texts, labels, test_size=0.2, random_state=42)\n",
        "\n",
        "# Feature extraction using TF-IDF\n",
        "tfidf_vectorizer = TfidfVectorizer(max_features=5000) # You can adjust max_features\n",
        "X_train_tfidf = tfidf_vectorizer.fit_transform(X_train)\n",
        "X_test_tfidf = tfidf_vectorizer.transform(X_test)"
      ],
      "metadata": {
        "id": "nHxc0NyofrQG"
      },
      "execution_count": null,
      "outputs": []
    },
    {
      "cell_type": "code",
      "source": [
        "# --- Chunk 3: Model Training and Evaluation ---\n",
        "from sklearn.linear_model import LogisticRegression\n",
        "from sklearn.metrics import classification_report\n",
        "\n",
        "# Initialize and train the model\n",
        "model = LogisticRegression(max_iter=1000)  # Increased max_iter for convergence\n",
        "model.fit(X_train_tfidf, y_train)\n",
        "\n",
        "# Make predictions on the test set\n",
        "y_pred = model.predict(X_test_tfidf)\n",
        "\n",
        "# Evaluate the model\n",
        "print(classification_report(y_test, y_pred))"
      ],
      "metadata": {
        "colab": {
          "base_uri": "https://localhost:8080/"
        },
        "id": "mmiljjz8uzsx",
        "outputId": "b3b77ee9-1794-4b9f-dbff-03961f7a7e7a"
      },
      "execution_count": null,
      "outputs": [
        {
          "output_type": "stream",
          "name": "stdout",
          "text": [
            "              precision    recall  f1-score   support\n",
            "\n",
            "           0       0.90      0.87      0.88      4961\n",
            "           1       0.88      0.90      0.89      5039\n",
            "\n",
            "    accuracy                           0.89     10000\n",
            "   macro avg       0.89      0.89      0.89     10000\n",
            "weighted avg       0.89      0.89      0.89     10000\n",
            "\n"
          ]
        }
      ]
    },
    {
      "cell_type": "code",
      "source": [
        "# --- Chunk 5: Sentiment Prediction on New Text (Example) ---\n",
        "def predict_sentiment(text, tfidf_vectorizer, model):\n",
        "    processed_text = preprocess_text(text)\n",
        "    text_tfidf = tfidf_vectorizer.transform([processed_text])\n",
        "    prediction = model.predict(text_tfidf)[0]\n",
        "    return \"Positive\" if prediction == 1 else \"Negative\""
      ],
      "metadata": {
        "id": "yKxffQv0vGEf"
      },
      "execution_count": null,
      "outputs": []
    },
    {
      "cell_type": "code",
      "source": [
        "# --- Chunk 6: Example Usage ---\n",
        "new_review = \"This movie was absolutely fantastic! The acting was superb and the story kept me hooked.\"\n",
        "sentiment = predict_sentiment(new_review, tfidf_vectorizer, model)\n",
        "print(f\"\\nSentiment of the new review: {sentiment}\")\n",
        "\n",
        "new_review_negative = \"I found this film boring and predictable. The plot was weak.\"\n",
        "sentiment_negative = predict_sentiment(new_review_negative, tfidf_vectorizer, model)\n",
        "print(f\"Sentiment of the new review: {sentiment_negative}\")"
      ],
      "metadata": {
        "colab": {
          "base_uri": "https://localhost:8080/"
        },
        "id": "6x4NkFT2vNro",
        "outputId": "8baf4f11-6094-4897-a062-90ac06faf222"
      },
      "execution_count": null,
      "outputs": [
        {
          "output_type": "stream",
          "name": "stdout",
          "text": [
            "\n",
            "Sentiment of the new review: Positive\n",
            "Sentiment of the new review: Negative\n"
          ]
        }
      ]
    },
    {
      "cell_type": "code",
      "source": [],
      "metadata": {
        "id": "S3tKnfoGvUwe"
      },
      "execution_count": null,
      "outputs": []
    }
  ]
}